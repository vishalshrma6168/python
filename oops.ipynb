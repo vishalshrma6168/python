{
 "cells": [
  {
   "cell_type": "markdown",
   "id": "9d6d9716",
   "metadata": {},
   "source": [
    "# oops in python"
   ]
  },
  {
   "cell_type": "code",
   "execution_count": null,
   "id": "b26240f7",
   "metadata": {},
   "outputs": [],
   "source": [
    "# classes and object\n",
    "# class method and self\n",
    "# inheritance\n",
    "# encapsulation\n",
    "# class veriables\n",
    "# static method\n",
    "# property decorators\n",
    "# class inheritance and isintance()function\n",
    "# multiple inheritance\n"
   ]
  },
  {
   "cell_type": "code",
   "execution_count": 4,
   "id": "232c71e9",
   "metadata": {},
   "outputs": [
    {
     "name": "stdout",
     "output_type": "stream",
     "text": [
      "<__main__.Car object at 0x000002214D64E120>\n"
     ]
    }
   ],
   "source": [
    "# basic class and object\n",
    "\n",
    "# problem create a class with attribute like brnad and model .then create an instance of this class\n",
    "\n",
    "\n",
    "class Car:\n",
    "  brand=None\n",
    "  model=None\n",
    "\n",
    "my_car=Car()\n",
    "print(my_car)"
   ]
  },
  {
   "cell_type": "code",
   "execution_count": null,
   "id": "eab0dd01",
   "metadata": {},
   "outputs": [],
   "source": []
  }
 ],
 "metadata": {
  "kernelspec": {
   "display_name": "venv",
   "language": "python",
   "name": "python3"
  },
  "language_info": {
   "codemirror_mode": {
    "name": "ipython",
    "version": 3
   },
   "file_extension": ".py",
   "mimetype": "text/x-python",
   "name": "python",
   "nbconvert_exporter": "python",
   "pygments_lexer": "ipython3",
   "version": "3.13.3"
  }
 },
 "nbformat": 4,
 "nbformat_minor": 5
}
