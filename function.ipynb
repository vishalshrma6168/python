{
 "cells": [
  {
   "cell_type": "markdown",
   "id": "a409b6b4",
   "metadata": {},
   "source": [
    "# function in python\n"
   ]
  },
  {
   "cell_type": "code",
   "execution_count": null,
   "id": "b371f539",
   "metadata": {},
   "outputs": [
    {
     "name": "stdout",
     "output_type": "stream",
     "text": [
      "14\n"
     ]
    }
   ],
   "source": [
    "# why we use a function---because ye code ko repeat nhi hone deta\n",
    "# function with argument\n",
    "def fun(a,b):\n",
    "  print(a+b)\n",
    "\n",
    "fun(7,7)"
   ]
  },
  {
   "cell_type": "code",
   "execution_count": null,
   "id": "26129ecc",
   "metadata": {},
   "outputs": [
    {
     "name": "stdout",
     "output_type": "stream",
     "text": [
      "hello\n"
     ]
    }
   ],
   "source": [
    "# simple function\n",
    "def fun():\n",
    "  print(\"hello\")\n",
    "\n",
    "fun()"
   ]
  },
  {
   "cell_type": "code",
   "execution_count": null,
   "id": "9a6d8b9f",
   "metadata": {},
   "outputs": [
    {
     "data": {
      "text/plain": [
       "18"
      ]
     },
     "execution_count": 9,
     "metadata": {},
     "output_type": "execute_result"
    }
   ],
   "source": [
    "def sum(a,b):# function define  ,and b are a parameters\n",
    "  sum=a+b\n",
    "\n",
    "  return sum\n",
    "  \n",
    "sum(9,9)# function calling\n"
   ]
  },
  {
   "cell_type": "code",
   "execution_count": 10,
   "id": "1ecff5bf",
   "metadata": {},
   "outputs": [
    {
     "data": {
      "text/plain": [
       "7"
      ]
     },
     "execution_count": 10,
     "metadata": {},
     "output_type": "execute_result"
    }
   ],
   "source": [
    "def cal_sum(a,b):\n",
    "  return a+b\n",
    "\n",
    "cal_sum(3,4)"
   ]
  },
  {
   "cell_type": "code",
   "execution_count": 13,
   "id": "0dbda2f8",
   "metadata": {},
   "outputs": [
    {
     "data": {
      "text/plain": [
       "40.0"
      ]
     },
     "execution_count": 13,
     "metadata": {},
     "output_type": "execute_result"
    }
   ],
   "source": [
    "# average of 3 number\n",
    "def avg(a,b,c):\n",
    "  sum=a+b+c\n",
    "  avg=sum/3\n",
    "  return avg\n",
    "\n",
    "avg(30,40,50)"
   ]
  },
  {
   "cell_type": "code",
   "execution_count": null,
   "id": "56bdafc1",
   "metadata": {},
   "outputs": [
    {
     "data": {
      "text/plain": [
       "1"
      ]
     },
     "execution_count": 15,
     "metadata": {},
     "output_type": "execute_result"
    }
   ],
   "source": [
    "# types of function\n",
    "\"\"\" \n",
    "1.build-inFunction\n",
    "2. user defined function\n",
    "\"\"\"\n",
    "\n",
    "\"\"\" \n",
    "bulid in function\n",
    "1. print()\n",
    "2. len()\n",
    "3.type() \n",
    "4.range()\n",
    "\"\"\"\n",
    "\n",
    "\"\"\"\n",
    "user defined function\n",
    "\"\"\"\n"
   ]
  },
  {
   "cell_type": "code",
   "execution_count": 17,
   "id": "065c2b8b",
   "metadata": {},
   "outputs": [
    {
     "name": "stdout",
     "output_type": "stream",
     "text": [
      "apnacollege vishalsharma\n",
      "vishal \n",
      "sharma\n"
     ]
    }
   ],
   "source": [
    "print(\"apnacollege\",\"vishalsharma\")\n",
    "print(\"vishal \\nsharma\")"
   ]
  },
  {
   "cell_type": "code",
   "execution_count": 22,
   "id": "b29c782c",
   "metadata": {},
   "outputs": [
    {
     "data": {
      "text/plain": [
       "9"
      ]
     },
     "execution_count": 22,
     "metadata": {},
     "output_type": "execute_result"
    }
   ],
   "source": [
    "# default  paarameters\n",
    "def cal(a=7,b=7):\n",
    "  \n",
    "  return a+b\n",
    "cal(4,5)"
   ]
  }
 ],
 "metadata": {
  "kernelspec": {
   "display_name": "venv",
   "language": "python",
   "name": "python3"
  },
  "language_info": {
   "codemirror_mode": {
    "name": "ipython",
    "version": 3
   },
   "file_extension": ".py",
   "mimetype": "text/x-python",
   "name": "python",
   "nbconvert_exporter": "python",
   "pygments_lexer": "ipython3",
   "version": "3.13.3"
  }
 },
 "nbformat": 4,
 "nbformat_minor": 5
}
