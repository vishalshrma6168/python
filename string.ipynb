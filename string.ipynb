{
 "cells": [
  {
   "cell_type": "markdown",
   "id": "84b4adf1",
   "metadata": {},
   "source": [
    "# string"
   ]
  },
  {
   "cell_type": "code",
   "execution_count": null,
   "id": "7d0051de",
   "metadata": {},
   "outputs": [
    {
     "name": "stdout",
     "output_type": "stream",
     "text": [
      "vishal\n"
     ]
    }
   ],
   "source": [
    "# string\n",
    "name=\"vishal\"# double cot\n",
    "name2='anku'\n",
    "print(name)"
   ]
  },
  {
   "cell_type": "code",
   "execution_count": null,
   "id": "dc4bfad2",
   "metadata": {},
   "outputs": [
    {
     "name": "stdout",
     "output_type": "stream",
     "text": [
      "vishalsharma\n"
     ]
    }
   ],
   "source": [
    "#diffrent operation on string\n",
    "name=\"vishal\"\n",
    "name2=\"sharma\"\n",
    "final=name+name2\n",
    "print(final)"
   ]
  },
  {
   "cell_type": "code",
   "execution_count": null,
   "id": "ac50712b",
   "metadata": {},
   "outputs": [
    {
     "name": "stdout",
     "output_type": "stream",
     "text": [
      "13\n"
     ]
    }
   ],
   "source": [
    "# length \n",
    "name=\"vishal sharma\"\n",
    "print(len(name))"
   ]
  },
  {
   "cell_type": "code",
   "execution_count": 12,
   "id": "852a93e7",
   "metadata": {},
   "outputs": [
    {
     "name": "stdout",
     "output_type": "stream",
     "text": [
      "s\n"
     ]
    }
   ],
   "source": [
    "# indexing\n",
    "name=\"vishal\"\n",
    "# name[2]=\"g\"-- not modeifed\n",
    "print(name[2])"
   ]
  },
  {
   "cell_type": "code",
   "execution_count": 24,
   "id": "72144820",
   "metadata": {},
   "outputs": [
    {
     "name": "stdout",
     "output_type": "stream",
     "text": [
      "s\n"
     ]
    }
   ],
   "source": [
    "# slicing\n",
    "# str[starting indx:ending indx]\n",
    "str=\"vishalsharma\"\n",
    "str=str[2:3]# 4 not include\n",
    "\n",
    "print(str)"
   ]
  },
  {
   "cell_type": "code",
   "execution_count": null,
   "id": "488a0d0e",
   "metadata": {},
   "outputs": [
    {
     "name": "stdout",
     "output_type": "stream",
     "text": [
      "shalsharma\n"
     ]
    }
   ],
   "source": [
    "str=\"vishalsharma\"\n",
    "str=str[2:] #ending index missing means 2 to last index tak jna hai\n",
    "\n",
    "print(str)"
   ]
  },
  {
   "cell_type": "code",
   "execution_count": null,
   "id": "b3eca3f7",
   "metadata": {},
   "outputs": [
    {
     "name": "stdout",
     "output_type": "stream",
     "text": [
      "visha\n"
     ]
    }
   ],
   "source": [
    "str=\"vishalsharma\"\n",
    "str=str[:5] # first index missing means 0 to 5\n",
    "\n",
    "print(str)"
   ]
  },
  {
   "cell_type": "code",
   "execution_count": 28,
   "id": "e335cfd9",
   "metadata": {},
   "outputs": [
    {
     "name": "stdout",
     "output_type": "stream",
     "text": [
      "ppl\n"
     ]
    }
   ],
   "source": [
    "# negative index\n",
    "# -1 se starting\n",
    "# ending index not count\n",
    "str=\"apple\"\n",
    "print(str[-4:-1])"
   ]
  },
  {
   "cell_type": "code",
   "execution_count": 29,
   "id": "1931ffe2",
   "metadata": {},
   "outputs": [
    {
     "name": "stdout",
     "output_type": "stream",
     "text": [
      "pple\n"
     ]
    }
   ],
   "source": [
    "str=\"apple\"\n",
    "print(str[-4:])"
   ]
  },
  {
   "cell_type": "code",
   "execution_count": 30,
   "id": "67eaa9d2",
   "metadata": {},
   "outputs": [
    {
     "name": "stdout",
     "output_type": "stream",
     "text": [
      "appl\n"
     ]
    }
   ],
   "source": [
    "str=\"apple\"\n",
    "print(str[:-1])"
   ]
  },
  {
   "cell_type": "code",
   "execution_count": 33,
   "id": "a438bc44",
   "metadata": {},
   "outputs": [
    {
     "name": "stdout",
     "output_type": "stream",
     "text": [
      "True\n"
     ]
    }
   ],
   "source": [
    "# function in string\n",
    "str=\"i am coder\"\n",
    "print(str.endswith(\"er\"))"
   ]
  },
  {
   "cell_type": "code",
   "execution_count": 34,
   "id": "8c260750",
   "metadata": {},
   "outputs": [
    {
     "name": "stdout",
     "output_type": "stream",
     "text": [
      "I AM CODER\n"
     ]
    }
   ],
   "source": [
    "str=\"i am coder\"\n",
    "print(str.upper())"
   ]
  },
  {
   "cell_type": "code",
   "execution_count": 35,
   "id": "b482af28",
   "metadata": {},
   "outputs": [
    {
     "name": "stdout",
     "output_type": "stream",
     "text": [
      "i am coder\n"
     ]
    }
   ],
   "source": [
    "str=\"i am coder\"\n",
    "print(str.lower())"
   ]
  },
  {
   "cell_type": "code",
   "execution_count": 36,
   "id": "149e0e25",
   "metadata": {},
   "outputs": [
    {
     "name": "stdout",
     "output_type": "stream",
     "text": [
      "I am coder\n"
     ]
    }
   ],
   "source": [
    "str=\"i am coder\"\n",
    "print(str.capitalize())"
   ]
  },
  {
   "cell_type": "code",
   "execution_count": 39,
   "id": "8c57858d",
   "metadata": {},
   "outputs": [
    {
     "name": "stdout",
     "output_type": "stream",
     "text": [
      "v am coder\n"
     ]
    }
   ],
   "source": [
    "str=\"i am coder\"\n",
    "print(str.replace(\"i\",\"v\"))"
   ]
  },
  {
   "cell_type": "code",
   "execution_count": 42,
   "id": "667ddfba",
   "metadata": {},
   "outputs": [
    {
     "name": "stdout",
     "output_type": "stream",
     "text": [
      "7\n"
     ]
    }
   ],
   "source": [
    "str=\"i am coder\"\n",
    "print(str.find(\"d\"))"
   ]
  },
  {
   "cell_type": "code",
   "execution_count": null,
   "id": "6aca1066",
   "metadata": {},
   "outputs": [
    {
     "name": "stdout",
     "output_type": "stream",
     "text": [
      "2\n",
      "False\n"
     ]
    }
   ],
   "source": [
    "str=\"i am coder am\"\n",
    "print(str.count(\"am\"))\n"
   ]
  },
  {
   "cell_type": "code",
   "execution_count": null,
   "id": "f895916c",
   "metadata": {},
   "outputs": [
    {
     "name": "stdout",
     "output_type": "stream",
     "text": [
      "6\n"
     ]
    }
   ],
   "source": [
    "# question\n",
    "# take a input from user to enter your fisrtname & print its length\n",
    "user=input(\"enter your name:\")\n",
    "print(len(user))"
   ]
  },
  {
   "cell_type": "code",
   "execution_count": 49,
   "id": "9e569c1b",
   "metadata": {},
   "outputs": [
    {
     "name": "stdout",
     "output_type": "stream",
     "text": [
      "1\n"
     ]
    }
   ],
   "source": [
    "# find the occurence of $ in a string\n",
    "str=\"hi i am the $ symbol 99.8\"\n",
    "print(str.count(\"$\"))"
   ]
  }
 ],
 "metadata": {
  "kernelspec": {
   "display_name": "venv",
   "language": "python",
   "name": "python3"
  },
  "language_info": {
   "codemirror_mode": {
    "name": "ipython",
    "version": 3
   },
   "file_extension": ".py",
   "mimetype": "text/x-python",
   "name": "python",
   "nbconvert_exporter": "python",
   "pygments_lexer": "ipython3",
   "version": "3.13.3"
  }
 },
 "nbformat": 4,
 "nbformat_minor": 5
}
