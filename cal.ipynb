{
 "cells": [
  {
   "cell_type": "markdown",
   "id": "bd19e6d9",
   "metadata": {},
   "source": [
    "# caluclator desgin"
   ]
  },
  {
   "cell_type": "code",
   "execution_count": null,
   "id": "60cfbe06",
   "metadata": {},
   "outputs": [],
   "source": [
    "from tkinter import *\n",
    "from datetime import date\n",
    "\n",
    "root=Tk()\n",
    "root.geometry(\"500x700\")\n",
    "root.title(\"Calculator\")\n",
    "root.resizable(0,0)\n",
    "\n",
    "Label(root, text=\"name\", font=(\"Arial\", 20, \"bold\")).place(x=50, y=100)\n",
    "Label(root,text=\"year\",font=(\"Arial\",15,\"bold\")).place(x=50,y=200)\n",
    "Label(root,text=\"month\",font=(\"Arial\",15,\"bold\")).place(x=50,y=300)\n",
    "Label(root,text=\"day\",font=(\"Arial\",15,\"bold\")).place(x=50,y=400)\n",
    "\n",
    "nameEntry= Entry(root,font=(\"Arial\",15,\"bold\"),fg=\"blue\",bg=\"yellow\").place(x=200,y=100)\n",
    "yearEntry= Entry(root,font=(\"Arial\",15,\"bold\"),fg=\"blue\",bg=\"yellow\").place(x=200,y=200)\n",
    "monthEntry= Entry(root,font=(\"Arial\",15,\"bold\"),fg=\"blue\",bg=\"yellow\").place(x=200,y=300)\n",
    "datEntry= Entry(root,font=(\"Arial\",15,\"bold\"),fg=\"blue\",bg=\"yellow\").place(x=200,y=400)\n",
    "Button(root, text=\"submit\", font=(\"Arial\", 15, \"bold\"), fg=\"blue\", bg=\"yellow\").place(x=250, y=500)\n",
    "root.mainloop()\n"
   ]
  },
  {
   "cell_type": "markdown",
   "id": "8054e8c3",
   "metadata": {},
   "source": [
    "# with function"
   ]
  },
  {
   "cell_type": "code",
   "execution_count": null,
   "id": "fcbb4c7d",
   "metadata": {},
   "outputs": [],
   "source": [
    "from tkinter import *\n",
    "from datetime import date\n",
    "\n",
    "root=Tk()\n",
    "root.geometry(\"500x700\")\n",
    "root.title(\"Calculator\")\n",
    "root.resizable(0,0)\n",
    "\n",
    "Label(root, text=\"name\", font=(\"Arial\", 20, \"bold\")).place(x=50, y=100)\n",
    "Label(root,text=\"year\",font=(\"Arial\",15,\"bold\")).place(x=50,y=200)\n",
    "Label(root,text=\"month\",font=(\"Arial\",15,\"bold\")).place(x=50,y=300)\n",
    "Label(root,text=\"day\",font=(\"Arial\",15,\"bold\")).place(x=50,y=400)\n",
    "\n",
    "nameEntry= Entry(root,font=(\"Arial\",15,\"bold\"),fg=\"blue\",bg=\"yellow\").place(x=200,y=100)\n",
    "yearEntry= Entry(root,font=(\"Arial\",15,\"bold\"),fg=\"blue\",bg=\"yellow\").place(x=200,y=200)\n",
    "monthEntry= Entry(root,font=(\"Arial\",15,\"bold\"),fg=\"blue\",bg=\"yellow\").place(x=200,y=300)\n",
    "datEntry= Entry(root,font=(\"Arial\",15,\"bold\"),fg=\"blue\",bg=\"yellow\").place(x=200,y=400)\n",
    "Button(root, text=\"submit\", font=(\"Arial\", 15, \"bold\"), fg=\"blue\", bg=\"yellow\").place(x=250, y=500)\n",
    "root.mainloop()"
   ]
  },
  {
   "cell_type": "code",
   "execution_count": 1,
   "id": "eb60e29d",
   "metadata": {},
   "outputs": [],
   "source": [
    "from tkinter import *\n",
    "from datetime import date\n",
    "\n",
    "root=Tk()\n",
    "root.geometry(\"500x700\")\n",
    "root.title(\"Calculator\")\n",
    "root.resizable(0,0)\n",
    "\n",
    "Label(root, text=\"name\", font=(\"Arial\", 20, \"bold\")).place(x=50, y=100)\n",
    "Label(root,text=\"year\",font=(\"Arial\",15,\"bold\")).place(x=50,y=200)\n",
    "Label(root,text=\"month\",font=(\"Arial\",15,\"bold\")).place(x=50,y=300)\n",
    "Label(root,text=\"day\",font=(\"Arial\",15,\"bold\")).place(x=50,y=400)\n",
    "\n",
    "nameValue=StringVar()\n",
    "yearValue=StringVar()\n",
    "monthValue=StringVar()\n",
    "dayValue=StringVar()\n",
    "\n",
    "nameEntry= Entry(root,font=(\"Arial\",15,\"bold\"),fg=\"blue\",bg=\"yellow\")\n",
    "nameEntry.place(x=200,y=100)\n",
    "yearEntry= Entry(root,font=(\"Arial\",15,\"bold\"),fg=\"blue\",bg=\"yellow\")\n",
    "yearEntry.place(x=200,y=200)\n",
    "monthEntry= Entry(root,font=(\"Arial\",15,\"bold\"),fg=\"blue\",bg=\"yellow\")\n",
    "monthEntry.place(x=200,y=300)\n",
    "dateEntry= Entry(root,font=(\"Arial\",15,\"bold\"),fg=\"blue\",bg=\"yellow\")\n",
    "dateEntry.place(x=200,y=400)\n",
    "\n",
    "def calculate():\n",
    "  today=date.today()\n",
    "  birth=date(int(yearEntry.get()),int(monthEntry.get()),int(dateEntry.get()))\n",
    "  age=today.year-birth.year - ((today.month,today.day)<(birth.month,birth.day))\n",
    "  Label(root,text=f\"{nameEntry.get()} your age is {age}\", font=(\"Arial\", 15, \"bold\"), fg=\"blue\", bg=\"yellow\").place(x=50,y=600)\n",
    "\n",
    "\n",
    "Button(root, text=\"submit\", font=(\"Arial\", 15, \"bold\"), fg=\"blue\", bg=\"yellow\",command=calculate).place(x=250, y=500)\n",
    "\n",
    "root.mainloop()"
   ]
  }
 ],
 "metadata": {
  "kernelspec": {
   "display_name": "venv",
   "language": "python",
   "name": "python3"
  },
  "language_info": {
   "codemirror_mode": {
    "name": "ipython",
    "version": 3
   },
   "file_extension": ".py",
   "mimetype": "text/x-python",
   "name": "python",
   "nbconvert_exporter": "python",
   "pygments_lexer": "ipython3",
   "version": "3.13.3"
  }
 },
 "nbformat": 4,
 "nbformat_minor": 5
}
