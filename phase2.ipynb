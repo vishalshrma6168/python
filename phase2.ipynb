{
 "cells": [
  {
   "cell_type": "markdown",
   "id": "0e82e537",
   "metadata": {},
   "source": [
    "#numpy array operation"
   ]
  },
  {
   "cell_type": "code",
   "execution_count": 3,
   "id": "54d7ce97",
   "metadata": {},
   "outputs": [
    {
     "name": "stdout",
     "output_type": "stream",
     "text": [
      "basic sclicing [4 5 6 7 8]\n",
      "slcing with steps [3 5 7]\n",
      "-ve index 6\n"
     ]
    }
   ],
   "source": [
    "import numpy as np\n",
    "\n",
    "arr =np.array([1,2,3,4,5,6,7,8,9,10])\n",
    "print(\"basic sclicing\",arr[3:8])\n",
    "print(\"slcing with steps\",arr[2:7:2])\n",
    "print(\"-ve index\",arr[-5])\n"
   ]
  },
  {
   "cell_type": "markdown",
   "id": "6041dc8f",
   "metadata": {},
   "source": [
    "#2d array slicing"
   ]
  },
  {
   "cell_type": "code",
   "execution_count": 14,
   "id": "0bd26092",
   "metadata": {},
   "outputs": [
    {
     "name": "stdout",
     "output_type": "stream",
     "text": [
      "specific element 8\n",
      "entir row [4 5 6]\n",
      "entir column [2 5 8]\n"
     ]
    }
   ],
   "source": [
    "arr2d=np.array([[1,2,3],[4,5,6],[7,8,9]])\n",
    "print(\"specific element\",arr2d[2,1])\n",
    "print(\"entir row\",arr2d[1])\n",
    "print(\"entir column\",arr2d[:,1])"
   ]
  },
  {
   "cell_type": "markdown",
   "id": "4a4ce824",
   "metadata": {},
   "source": [
    "#SORTING"
   ]
  },
  {
   "cell_type": "code",
   "execution_count": 22,
   "id": "1c13549a",
   "metadata": {},
   "outputs": [
    {
     "name": "stdout",
     "output_type": "stream",
     "text": [
      "sorted array [ 1  2  3  4  5  6  7  8  9 10]\n",
      "sorted 2d array by row [[2 3]\n",
      " [1 5]\n",
      " [6 8]]\n"
     ]
    }
   ],
   "source": [
    "unsorted =np.array([1,2,5,4,3,6,7,8,9,10])\n",
    "print(\"sorted array\",np.sort(unsorted))\n",
    "\n",
    "\n",
    "arr2d_unsorted=np.array([[2,3],[1,5],[6,8]])\n",
    "print(\"sorted 2d array by row\",np.sort(arr2d_unsorted,axis=1))"
   ]
  },
  {
   "cell_type": "markdown",
   "id": "8df74e0b",
   "metadata": {},
   "source": [
    "#filtering in array"
   ]
  },
  {
   "cell_type": "code",
   "execution_count": 23,
   "id": "bedcadfc",
   "metadata": {},
   "outputs": [
    {
     "name": "stdout",
     "output_type": "stream",
     "text": [
      "even numbers [ 2  4  6  8 10]\n"
     ]
    }
   ],
   "source": [
    "#basic \n",
    "numbers=np.array([1,2,3,4,5,6,7,8,9,10])\n",
    "even_numbers=numbers[numbers%2 == 0]\n",
    "print(\"even numbers\",even_numbers)\n",
    "\n",
    "\n",
    "\n"
   ]
  },
  {
   "cell_type": "markdown",
   "id": "1d3de471",
   "metadata": {},
   "source": [
    "#filter with mask"
   ]
  },
  {
   "cell_type": "code",
   "execution_count": 26,
   "id": "1fd93200",
   "metadata": {},
   "outputs": [
    {
     "name": "stdout",
     "output_type": "stream",
     "text": [
      "numbers greater than 6 [ 7  8  9 10]\n"
     ]
    }
   ],
   "source": [
    "numbers=np.array([1,2,3,4,5,6,7,8,9,10])\n",
    "\n",
    "mask = numbers> 6\n",
    "print(\"numbers greater than 6\",numbers[mask])"
   ]
  },
  {
   "cell_type": "markdown",
   "id": "73dddc3d",
   "metadata": {},
   "source": [
    "#Fancy indexing vs np.where()"
   ]
  },
  {
   "cell_type": "code",
   "execution_count": 29,
   "id": "2e732458",
   "metadata": {},
   "outputs": [
    {
     "name": "stdout",
     "output_type": "stream",
     "text": [
      "[1 4 6]\n",
      "np where [ 6  7  8  9 10]\n"
     ]
    }
   ],
   "source": [
    "numbers=np.array([1,2,3,4,5,6,7,8,9,10])\n",
    "indices =[0,3,5]\n",
    "print(numbers[indices])\n",
    "\n",
    "# use with where\n",
    "\n",
    "where_result =np.where(numbers >5)\n",
    "print(\"np where\",numbers[where_result])\n"
   ]
  },
  {
   "cell_type": "code",
   "execution_count": 31,
   "id": "f25245a5",
   "metadata": {},
   "outputs": [
    {
     "name": "stdout",
     "output_type": "stream",
     "text": [
      "[2 4 6 8]\n",
      "[0 0 0 0]\n",
      "[ 1  4  9 16]\n",
      "[1. 1. 1. 1.]\n",
      "[0 0 0 0]\n"
     ]
    }
   ],
   "source": [
    "a=np.array([1,2,3,4])\n",
    "b=np.array([1,2,3,4])\n",
    "print(np.add(a,b))\n",
    "print(np.subtract(a,b))\n",
    "print(np.multiply(a,b))\n",
    "print(np.divide(a,b))\n",
    "print(np.mod(a,b))"
   ]
  },
  {
   "cell_type": "code",
   "execution_count": null,
   "id": "3f355bcb",
   "metadata": {},
   "outputs": [],
   "source": []
  }
 ],
 "metadata": {
  "kernelspec": {
   "display_name": "venv",
   "language": "python",
   "name": "python3"
  },
  "language_info": {
   "codemirror_mode": {
    "name": "ipython",
    "version": 3
   },
   "file_extension": ".py",
   "mimetype": "text/x-python",
   "name": "python",
   "nbconvert_exporter": "python",
   "pygments_lexer": "ipython3",
   "version": "3.13.3"
  }
 },
 "nbformat": 4,
 "nbformat_minor": 5
}
