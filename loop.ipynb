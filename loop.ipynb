{
 "cells": [
  {
   "cell_type": "code",
   "execution_count": 4,
   "id": "95fecdd7",
   "metadata": {},
   "outputs": [
    {
     "name": "stdout",
     "output_type": "stream",
     "text": [
      "v\n",
      "s\n",
      "h\n",
      "a\n",
      "l\n"
     ]
    }
   ],
   "source": [
    "name=\"vshal\"\n",
    "for i in name:\n",
    "  print(i)"
   ]
  },
  {
   "cell_type": "code",
   "execution_count": 4,
   "id": "7782a7f1",
   "metadata": {},
   "outputs": [
    {
     "name": "stdout",
     "output_type": "stream",
     "text": [
      "*\n",
      "**\n",
      "***\n",
      "****\n",
      "*****\n",
      "******\n",
      "*******\n",
      "********\n",
      "*********\n",
      "**********\n"
     ]
    }
   ],
   "source": [
    "# for loop with range function\n",
    "\n",
    "a=input(\"enter any number\")\n",
    "for i in range(1,11):\n",
    "  c=a*i\n",
    "  print(c)\n",
    "   \n",
    "  "
   ]
  },
  {
   "cell_type": "code",
   "execution_count": 7,
   "id": "1205b3f7",
   "metadata": {},
   "outputs": [
    {
     "name": "stdout",
     "output_type": "stream",
     "text": [
      "*\n",
      "*\n",
      "*\n",
      "*\n",
      "*\n",
      "*\n",
      "*\n",
      "*\n",
      "*\n",
      "*\n",
      "*\n",
      "*\n",
      "*\n",
      "*\n",
      "*\n"
     ]
    }
   ],
   "source": [
    "for i in range(0,6):\n",
    "  for j in range(i):\n",
    "    print(\"*\",end=\"\")\n",
    "    print()"
   ]
  },
  {
   "cell_type": "code",
   "execution_count": null,
   "id": "62320dbc",
   "metadata": {},
   "outputs": [
    {
     "name": "stdout",
     "output_type": "stream",
     "text": [
      "odd number 1\n",
      "even number 2\n",
      "odd number 3\n",
      "even number 4\n",
      "odd number 5\n",
      "even number 6\n",
      "odd number 7\n",
      "even number 8\n",
      "odd number 9\n",
      "even number 10\n"
     ]
    }
   ],
   "source": [
    "# odd and even\n",
    "for i in range(1,11):\n",
    "  if i%2==0:\n",
    "    print(\"even number\",i)\n",
    "  else:\n",
    "    print(\"odd number\",i)"
   ]
  },
  {
   "cell_type": "code",
   "execution_count": null,
   "id": "bbbe7a3c",
   "metadata": {},
   "outputs": [
    {
     "name": "stdout",
     "output_type": "stream",
     "text": [
      "odd number 1\n",
      "odd number 3\n",
      "odd number 5\n",
      "odd number 7\n",
      "odd number 9\n"
     ]
    }
   ],
   "source": [
    "# odd\n",
    "for i in range(1,11,2):\n",
    "  if i%2==0:\n",
    "    print(\"even number\",i)\n",
    "  else:\n",
    "    print(\"odd number\",i)"
   ]
  },
  {
   "cell_type": "code",
   "execution_count": null,
   "id": "26a5e184",
   "metadata": {},
   "outputs": [
    {
     "name": "stdout",
     "output_type": "stream",
     "text": [
      "even number 0\n",
      "even number 2\n",
      "even number 4\n",
      "even number 6\n",
      "even number 8\n",
      "even number 10\n"
     ]
    }
   ],
   "source": [
    "# even\n",
    "for i in range(0,11,2):\n",
    "  if i%2==0:\n",
    "    print(\"even number\",i)\n",
    "  else:\n",
    "    print(\"odd number\",i)"
   ]
  },
  {
   "cell_type": "code",
   "execution_count": 38,
   "id": "a22efcc6",
   "metadata": {},
   "outputs": [
    {
     "name": "stdout",
     "output_type": "stream",
     "text": [
      "1\n",
      "24\n",
      "369\n",
      "481216\n",
      "510152025\n",
      "61218243036\n",
      "7142128354249\n"
     ]
    }
   ],
   "source": [
    "rows=8\n",
    "rows=int(input(\"enter the number of row\"))\n",
    "for i in range(1,rows+1):\n",
    "  for j in range(1,i+1):\n",
    "    square=i*j\n",
    "    print(i*j,end='')\n",
    "  print()"
   ]
  },
  {
   "cell_type": "markdown",
   "id": "81ff2d9f",
   "metadata": {},
   "source": [
    "# while loop"
   ]
  },
  {
   "cell_type": "code",
   "execution_count": 10,
   "id": "29a949e7",
   "metadata": {},
   "outputs": [
    {
     "name": "stdout",
     "output_type": "stream",
     "text": [
      "0\n",
      "1\n",
      "2\n"
     ]
    }
   ],
   "source": [
    "i=0\n",
    "while(i<3):\n",
    "  print(i)\n",
    "  i+=1"
   ]
  },
  {
   "cell_type": "code",
   "execution_count": 8,
   "id": "d3166005",
   "metadata": {},
   "outputs": [
    {
     "name": "stdout",
     "output_type": "stream",
     "text": [
      "7\n",
      "7\n",
      "8\n",
      "8\n",
      "9\n",
      "8\n",
      "5\n",
      "57\n",
      "done with the loop\n"
     ]
    }
   ],
   "source": [
    "\n",
    "while i<=38:\n",
    "  i=int(input(\"enter any number:\"))\n",
    "  print(i)\n",
    "\n",
    "print(\"done with the loop\")"
   ]
  },
  {
   "cell_type": "code",
   "execution_count": 9,
   "id": "d01bb754",
   "metadata": {},
   "outputs": [
    {
     "name": "stdout",
     "output_type": "stream",
     "text": [
      "5\n",
      "4\n",
      "3\n",
      "2\n",
      "1\n"
     ]
    }
   ],
   "source": [
    "# decreenting loop\n",
    "count=5\n",
    "while count>0:\n",
    "  print(count)\n",
    "  count-=1"
   ]
  },
  {
   "cell_type": "code",
   "execution_count": 11,
   "id": "af23ba8d",
   "metadata": {},
   "outputs": [
    {
     "name": "stdout",
     "output_type": "stream",
     "text": [
      "5\n",
      "4\n",
      "3\n",
      "2\n",
      "1\n",
      "i am inside else\n"
     ]
    }
   ],
   "source": [
    "# while loop with else\n",
    "count=5\n",
    "while count>0:\n",
    "  print(count)\n",
    "  count-=1\n",
    "else:\n",
    "  print(\"i am inside else\")"
   ]
  },
  {
   "cell_type": "code",
   "execution_count": null,
   "id": "c19c0a5b",
   "metadata": {},
   "outputs": [],
   "source": [
    "# do while loop is not exists in python\n",
    "\n"
   ]
  },
  {
   "cell_type": "markdown",
   "id": "1c8057b5",
   "metadata": {},
   "source": [
    "# break and continue statement\n"
   ]
  },
  {
   "cell_type": "code",
   "execution_count": 13,
   "id": "ea31c8d8",
   "metadata": {},
   "outputs": [
    {
     "name": "stdout",
     "output_type": "stream",
     "text": [
      "5 x 1 = 5\n",
      "5 x 2 = 10\n",
      "5 x 3 = 15\n",
      "5 x 4 = 20\n",
      "5 x 5 = 25\n",
      "5 x 6 = 30\n",
      "5 x 7 = 35\n",
      "5 x 8 = 40\n",
      "5 x 9 = 45\n",
      "5 x 10 = 50\n"
     ]
    }
   ],
   "source": [
    "# break and continue satement\n",
    "for i in range(1,11):\n",
    "  print(\"5 x\",i,\"=\",5*i)\n"
   ]
  },
  {
   "cell_type": "code",
   "execution_count": 16,
   "id": "f2a17df7",
   "metadata": {},
   "outputs": [
    {
     "name": "stdout",
     "output_type": "stream",
     "text": [
      "5 x 0 = 0\n",
      "5 x 1 = 5\n",
      "5 x 2 = 10\n",
      "5 x 3 = 15\n",
      "5 x 4 = 20\n",
      "5 x 5 = 25\n",
      "5 x 6 = 30\n",
      "5 x 7 = 35\n",
      "5 x 8 = 40\n",
      "5 x 9 = 45\n",
      "5 x 10 = 50\n",
      "loop ko chod ko nikl gya\n"
     ]
    }
   ],
   "source": [
    "for i in range(12):\n",
    "  print(\"5 x\",i,\"=\",5*i)\n",
    "  if i==10:\n",
    "    break # is loop chood kr nikl jaoo\n",
    "\n",
    "print(\"loop ko chod ko nikl gya\")"
   ]
  },
  {
   "cell_type": "code",
   "execution_count": 19,
   "id": "cf94800d",
   "metadata": {},
   "outputs": [
    {
     "name": "stdout",
     "output_type": "stream",
     "text": [
      "5 x 0 = 0\n",
      "5 x 1 = 5\n",
      "5 x 2 = 10\n",
      "5 x 3 = 15\n",
      "5 x 4 = 20\n",
      "5 x 5 = 25\n",
      "5 x 6 = 30\n",
      "5 x 7 = 35\n",
      "5 x 8 = 40\n",
      "5 x 9 = 45\n",
      "skip the iteration\n",
      "5 x 11 = 55\n"
     ]
    }
   ],
   "source": [
    "# continue---iteration ko chod kr nikl jao\n",
    "\n",
    "for i in range(12):\n",
    "  \n",
    "   if i==10:\n",
    "    print(\"skip the iteration\")\n",
    "    continue\n",
    "   print(\"5 x\",i,\"=\",5*i)"
   ]
  }
 ],
 "metadata": {
  "kernelspec": {
   "display_name": "venv",
   "language": "python",
   "name": "python3"
  },
  "language_info": {
   "codemirror_mode": {
    "name": "ipython",
    "version": 3
   },
   "file_extension": ".py",
   "mimetype": "text/x-python",
   "name": "python",
   "nbconvert_exporter": "python",
   "pygments_lexer": "ipython3",
   "version": "3.13.3"
  }
 },
 "nbformat": 4,
 "nbformat_minor": 5
}
