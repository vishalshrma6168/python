{
 "cells": [
  {
   "cell_type": "code",
   "execution_count": 5,
   "id": "3e47d3f7",
   "metadata": {},
   "outputs": [],
   "source": [
    "import qrcode\n",
    "qr=qrcode.QRCode(\n",
    "  version=15,\n",
    "  box_size=10,\n",
    "  border=5\n",
    ")\n",
    "data=\"https://www.instagram.com/\"\n",
    "qr.add_data(data)\n",
    "qr.make(fit=True)\n",
    "imag=qr.make_image(fill=\"black\",back_color=\"white\")\n",
    "imag.save(\"test.png\")"
   ]
  }
 ],
 "metadata": {
  "kernelspec": {
   "display_name": "venv",
   "language": "python",
   "name": "python3"
  },
  "language_info": {
   "codemirror_mode": {
    "name": "ipython",
    "version": 3
   },
   "file_extension": ".py",
   "mimetype": "text/x-python",
   "name": "python",
   "nbconvert_exporter": "python",
   "pygments_lexer": "ipython3",
   "version": "3.13.3"
  }
 },
 "nbformat": 4,
 "nbformat_minor": 5
}
