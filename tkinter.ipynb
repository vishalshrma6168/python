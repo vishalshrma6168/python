{
 "cells": [
  {
   "cell_type": "code",
   "execution_count": null,
   "id": "8584c0b6",
   "metadata": {},
   "outputs": [],
   "source": [
    "# how to use tkinter\n",
    "from tkinter import *\n",
    "root=Tk()\n",
    "\n",
    "# write code\n",
    "\n",
    "root.mainloop()"
   ]
  },
  {
   "cell_type": "markdown",
   "id": "1ab0d87e",
   "metadata": {},
   "source": [
    "# size increase"
   ]
  },
  {
   "cell_type": "code",
   "execution_count": null,
   "id": "86f5742d",
   "metadata": {},
   "outputs": [],
   "source": [
    "# how to increase size\n",
    "\n",
    "from tkinter import *\n",
    "root=Tk()\n",
    "root.geometry(\"500x200\")\n",
    "root.mainloop()\n"
   ]
  },
  {
   "cell_type": "markdown",
   "id": "323b8920",
   "metadata": {},
   "source": [
    "# background color"
   ]
  },
  {
   "cell_type": "code",
   "execution_count": null,
   "id": "a739019d",
   "metadata": {},
   "outputs": [],
   "source": [
    "# how to use backgound color\n",
    "from tkinter import *\n",
    "root =Tk()\n",
    "root[\"bg\"]=\"red\"\n",
    "root.mainloop()"
   ]
  },
  {
   "cell_type": "markdown",
   "id": "1c31d8e1",
   "metadata": {},
   "source": [
    "# image"
   ]
  },
  {
   "cell_type": "code",
   "execution_count": null,
   "id": "62513e56",
   "metadata": {},
   "outputs": [],
   "source": [
    "# insert image \n",
    "# pip install pillow\n",
    "from tkinter import *\n",
    "from PIL import Image, ImageTk\n",
    "root = Tk()\n",
    "\n",
    "image=Image.open(\"img.jpg\")\n",
    "photo=ImageTk.PhotoImage(image)\n",
    "# postion define\n",
    "Label(root,image=photo).pack()\n",
    "# place --x,y define\n",
    "# pack---place in center\n",
    "# grid---place in row and column\n",
    "\n",
    "root.mainloop()"
   ]
  },
  {
   "cell_type": "markdown",
   "id": "85668cc1",
   "metadata": {},
   "source": [
    "# define labels"
   ]
  },
  {
   "cell_type": "code",
   "execution_count": null,
   "id": "7adca879",
   "metadata": {},
   "outputs": [],
   "source": [
    "# label and input box\n",
    "from tkinter import *\n",
    "root = Tk()\n",
    "# define labels\n",
    "root.geometry(\"500x200\")\n",
    "root.resizable(0,0)  # disable resizing\n",
    "l1=Label(root,text=\"login page\",font=(\"Arial\",20,\"bold\"),fg=\"red\",bg=\"yellow\")\n",
    "l1.pack()\n",
    "# next label\n",
    "l2=Label(root,text=\"username\",font=(\"Arial\",15,\"bold\"),fg=\"blue\",bg=\"yellow\")\n",
    "l2.place(x=50,y=50)\n",
    "# input box\n",
    "e1=Entry(root,font=(\"Arial\",15,\"bold\"),fg=\"blue\",bg=\"yellow\")\n",
    "e1.place(x=200,y=50)\n",
    "root.mainloop()"
   ]
  },
  {
   "cell_type": "markdown",
   "id": "9c0c17e8",
   "metadata": {},
   "source": [
    "# check button"
   ]
  },
  {
   "cell_type": "code",
   "execution_count": 1,
   "id": "5f3c96b9",
   "metadata": {},
   "outputs": [],
   "source": [
    "# check button,radio button,simple button\n",
    "from tkinter import *\n",
    "root = Tk()\n",
    "# define labels\n",
    "root.geometry(\"500x300\")\n",
    "l1=Label(root,text=\"login page\",font=(\"Arial\",20,\"bold\"),fg=\"red\",bg=\"yellow\")\n",
    "l1.pack()\n",
    "# next label\n",
    "l2=Label(root,text=\"username\",font=(\"Arial\",15,\"bold\"),fg=\"blue\",bg=\"yellow\")\n",
    "l2.place(x=50,y=50)\n",
    "# input box\n",
    "e1=Entry(root,font=(\"Arial\",15,\"bold\"),fg=\"blue\",bg=\"yellow\")\n",
    "\n",
    "e1.place(x=200,y=50)\n",
    "# check button\n",
    "c1=Checkbutton(root,text=\"remember me\",font=(\"Arial\",15,\"bold\"),fg=\"blue\",bg=\"yellow\")\n",
    "c1.place(x=50,y=100)\n",
    "# radio button\n",
    "ab= IntVar()\n",
    "r1=Radiobutton(root,text=\"hoobies\",font=(\"Arial\",15,\"bold\"),variable=ab,fg=\"blue\",bg=\"yellow\",value=1)\n",
    "r1.place(x=50,y=150)\n",
    "# use value\n",
    "r1=Radiobutton(root,text=\"play\",font=(\"Arial\",15,\"bold\"),variable=ab,fg=\"blue\",bg=\"yellow\",value=2)\n",
    "r1.place(x=200,y=150)\n",
    "# button\n",
    "b1=Button(root,text=\"submit\",font=(\"Arial\",15,\"bold\"),fg=\"blue\",bg=\"yellow\")\n",
    "b1.place(x=50,y=200)\n",
    "root.mainloop()"
   ]
  },
  {
   "cell_type": "markdown",
   "id": "f68d53ab",
   "metadata": {},
   "source": [
    "# messagebox"
   ]
  },
  {
   "cell_type": "code",
   "execution_count": 1,
   "id": "3b45b4ad",
   "metadata": {},
   "outputs": [],
   "source": [
    "# label and input box\n",
    "from tkinter import *\n",
    "from tkinter import messagebox\n",
    "root = Tk()\n",
    "# define labels\n",
    "root.geometry(\"500x200\")\n",
    "root.resizable(0,0)  # disable resizing\n",
    "l1=Label(root,text=\"login page\",font=(\"Arial\",20,\"bold\"),fg=\"red\",bg=\"yellow\")\n",
    "l1.pack()\n",
    "# next label\n",
    "l2=Label(root,text=\"username\",font=(\"Arial\",15,\"bold\"),fg=\"blue\",bg=\"yellow\")\n",
    "l2.place(x=50,y=50)\n",
    "# input box\n",
    "e1=Entry(root,font=(\"Arial\",15,\"bold\"),fg=\"blue\",bg=\"yellow\")\n",
    "e1.place(x=200,y=50)\n",
    "def submit():\n",
    "  messagebox.showinfo(\"submit\",\"you have successfully submitted\")\n",
    "  messagebox.showerror(\"submit\",\"you have successfully submitted\")\n",
    "  messagebox.showwarning(\"submit\",\"you have successfully submitted\")\n",
    "\n",
    "Button(root,text=\"submit\",font=(\"Arial\",15,\"bold\"),fg=\"blue\",bg=\"yellow\",command=submit).place(x=50,y=100)\n",
    "Button(root,text=\"cancel\",font=(\"Arial\",15,\"bold\"),fg=\"blue\",bg=\"yellow\",command=root.quit).place(x=250,y=100)\n",
    "root.mainloop()"
   ]
  }
 ],
 "metadata": {
  "kernelspec": {
   "display_name": "venv",
   "language": "python",
   "name": "python3"
  },
  "language_info": {
   "codemirror_mode": {
    "name": "ipython",
    "version": 3
   },
   "file_extension": ".py",
   "mimetype": "text/x-python",
   "name": "python",
   "nbconvert_exporter": "python",
   "pygments_lexer": "ipython3",
   "version": "3.13.3"
  }
 },
 "nbformat": 4,
 "nbformat_minor": 5
}
