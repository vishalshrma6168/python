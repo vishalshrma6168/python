{
 "cells": [
  {
   "cell_type": "markdown",
   "id": "f4e6bf36",
   "metadata": {},
   "source": [
    "#pandas"
   ]
  },
  {
   "cell_type": "markdown",
   "id": "e93aad18",
   "metadata": {},
   "source": [
    "#data strutures\n",
    "-- series\n",
    " --dataframe\n",
    "--panel"
   ]
  },
  {
   "cell_type": "markdown",
   "id": "db7289a3",
   "metadata": {},
   "source": [
    "#series data strutures"
   ]
  },
  {
   "cell_type": "code",
   "execution_count": null,
   "id": "ce98c2cd",
   "metadata": {},
   "outputs": [
    {
     "name": "stdout",
     "output_type": "stream",
     "text": [
      "a    1.0\n",
      "b    2.0\n",
      "c    3.0\n",
      "d    4.0\n",
      "Name: Python, dtype: float64\n",
      "index 4.0\n"
     ]
    },
    {
     "name": "stderr",
     "output_type": "stream",
     "text": [
      "C:\\Users\\garg2\\AppData\\Local\\Temp\\ipykernel_17948\\908824309.py:8: FutureWarning: Series.__getitem__ treating keys as positions is deprecated. In a future version, integer keys will always be treated as labels (consistent with DataFrame behavior). To access a value by position, use `ser.iloc[pos]`\n",
      "  print(\"index\",a[3])\n"
     ]
    }
   ],
   "source": [
    "#series dataStruture with list\n",
    "\n",
    "import pandas as pd\n",
    "\n",
    "list =[1,2,3,4]\n",
    "a = pd.Series(list,index=['a','b','c','d'],dtype=\"float\",name=\"Python\")\n",
    "print(a)\n",
    "print(\"index\",a[3])\n"
   ]
  },
  {
   "cell_type": "code",
   "execution_count": 42,
   "id": "aa6d1074",
   "metadata": {},
   "outputs": [
    {
     "name": "stdout",
     "output_type": "stream",
     "text": [
      "name    [vishal, anku, sonu]\n",
      "id           [100, 200, 300]\n",
      "dtype: object\n",
      "1    24.0\n",
      "2     NaN\n",
      "3     NaN\n",
      "4    24.0\n",
      "4    24.0\n",
      "5     NaN\n",
      "6     NaN\n",
      "dtype: float64\n",
      "sr {'s': 0    1\n",
      "1    2\n",
      "2    3\n",
      "dtype: int64, 'b': 0    1\n",
      "1    2\n",
      "2    3\n",
      "dtype: int64}\n"
     ]
    }
   ],
   "source": [
    "#with dis --object\n",
    "import pandas as pd\n",
    "dis={\n",
    "  \"name\":[\"vishal\",\"anku\",\"sonu\"],\n",
    "  \"id\":[100,200,300]\n",
    "}\n",
    "a = pd.Series(dis)\n",
    "print(a)\n",
    "\n",
    "#single line\n",
    "s1 = pd.Series(12,index=[1,2,4,6,5,4])\n",
    "s2 = pd.Series(12,index=[1,3,4])\n",
    "print(s1+s2)\n",
    "\n",
    "\n",
    "\n",
    "sr = {\"s\":pd.Series([1,2,3]),\"b\":pd.Series([1,2,3])}\n",
    "print(\"sr\",sr)"
   ]
  },
  {
   "cell_type": "markdown",
   "id": "0d8abd1e",
   "metadata": {},
   "source": [
    "# DATAFRAMES"
   ]
  },
  {
   "cell_type": "code",
   "execution_count": 40,
   "id": "e7f8f570",
   "metadata": {},
   "outputs": [
    {
     "name": "stdout",
     "output_type": "stream",
     "text": [
      "   0\n",
      "0  1\n",
      "1  2\n",
      "2  3\n",
      "3  4\n",
      "4  5\n",
      "     name   d   id\n",
      "a  vishal  45  122\n",
      "s    anku  77  344\n",
      "anku\n",
      "   0  1  2  3\n",
      "0  1  3  4  5\n",
      "1  6  5  7  3\n"
     ]
    }
   ],
   "source": [
    "import pandas as pd\n",
    "list =[1,2,3,4,5]\n",
    "var = pd.DataFrame(list)\n",
    "print(var)\n",
    "\n",
    "# length values are same both side\n",
    "\n",
    "dis ={\n",
    "  \"name\":[\"vishal\",\"anku\"],\n",
    "  \"id\":[122,344],\n",
    "  \"d\":[45,77]\n",
    "}\n",
    "ab = pd.DataFrame(dis,columns=[\"name\",\"d\",\"id\"],index=[\"a\",\"s\"])\n",
    "print(ab)\n",
    "print(ab[\"name\"][\"s\"])\n",
    "\n",
    "# mutliple list \n",
    "list1 =[[1,3,4,5],[6,5,7,3]]\n",
    "sb = pd.DataFrame(list1)\n",
    "print(sb)"
   ]
  },
  {
   "cell_type": "markdown",
   "id": "375d7c23",
   "metadata": {},
   "source": [
    "#series with dataframe"
   ]
  },
  {
   "cell_type": "code",
   "execution_count": 43,
   "id": "e3609ef4",
   "metadata": {},
   "outputs": [
    {
     "name": "stdout",
     "output_type": "stream",
     "text": [
      "   s  b\n",
      "0  1  1\n",
      "1  2  2\n",
      "2  3  3\n"
     ]
    }
   ],
   "source": [
    "sr = {\"s\":pd.Series([1,2,3]),\"b\":pd.Series([1,2,3])}\n",
    "\n",
    "var3 = pd.DataFrame(sr)\n",
    "print(var3)"
   ]
  },
  {
   "cell_type": "markdown",
   "id": "18d5c890",
   "metadata": {},
   "source": [
    "#arithmetic opertions in pandas"
   ]
  },
  {
   "cell_type": "code",
   "execution_count": 50,
   "id": "7adfb8b5",
   "metadata": {},
   "outputs": [
    {
     "name": "stdout",
     "output_type": "stream",
     "text": [
      "add    a  b   c\n",
      "0  2  6  12\n",
      "1  4  7  28\n",
      "2  5  8  40\n",
      "subtract    a  b   c\n",
      "0  2  6  12\n",
      "1  4  7  28\n",
      "2  5  8  40\n",
      "multiple    a  b   c\n",
      "0  2  6  12\n",
      "1  4  7  28\n",
      "2  5  8  40\n",
      "   a  b   c  python  python_1\n",
      "0  2  6  12    True     False\n",
      "1  4  7  28    True     False\n",
      "2  5  8  40    True     False\n"
     ]
    }
   ],
   "source": [
    "import pandas as pd\n",
    "\n",
    "var = pd.DataFrame({\"a\":[2,4,5],\"b\":[6,7,8]})\n",
    "# add\n",
    "var[\"c\"] =var[\"a\"]+var[\"b\"]\n",
    "# subtract\n",
    "var[\"c\"] =var[\"a\"]-var[\"b\"]\n",
    "# multiple\n",
    "var[\"c\"] =var[\"a\"]*var[\"b\"]\n",
    "\n",
    "\n",
    "print(\"add\",var)\n",
    "print(\"subtract\",var)\n",
    "print(\"multiple\",var)\n",
    "\n",
    "var[\"python\"]=var[\"a\"] <=5\n",
    "var[\"python_1\"]=var[\"c\"] <=5\n",
    "var[\"python_1\"]=var[\"b\"] <=5\n",
    "print(var)\n"
   ]
  },
  {
   "cell_type": "markdown",
   "id": "600b9e8d",
   "metadata": {},
   "source": [
    "#delete and insert in functions "
   ]
  },
  {
   "cell_type": "code",
   "execution_count": 57,
   "id": "2f763a0f",
   "metadata": {},
   "outputs": [
    {
     "name": "stdout",
     "output_type": "stream",
     "text": [
      "   a  python   b\n",
      "0  1       1   6\n",
      "1  2       2   7\n",
      "2  3       3   8\n",
      "3  4       4   9\n",
      "4  5       5  10\n",
      "limited    a  python   b   p2\n",
      "0  1       1   6  6.0\n",
      "1  2       2   7  7.0\n",
      "2  3       3   8  NaN\n",
      "3  4       4   9  NaN\n",
      "4  5       5  10  NaN\n"
     ]
    }
   ],
   "source": [
    "# insert data\n",
    "import pandas as pd\n",
    "hello = pd.DataFrame({\"a\":[1,2,3,4,5],\"b\":[6,7,8,9,10]})\n",
    "hello.insert(1,\"python\",hello[\"a\"])\n",
    "print(hello)\n",
    "\n",
    "# limited data copy\n",
    "hello[\"p2\"]=hello[\"b\"][0:2]\n",
    "print(\"limited\",hello)\n",
    "\n"
   ]
  },
  {
   "cell_type": "code",
   "execution_count": 60,
   "id": "33dec1f9",
   "metadata": {},
   "outputs": [
    {
     "name": "stdout",
     "output_type": "stream",
     "text": [
      "1st method    a\n",
      "0  1\n",
      "1  2\n",
      "2  3\n",
      "3  4\n",
      "4  5\n",
      "2nd method     b\n",
      "0   6\n",
      "1   7\n",
      "2   8\n",
      "3   9\n",
      "4  10\n"
     ]
    }
   ],
   "source": [
    "# delete data\n",
    "\n",
    "delete = pd.DataFrame({\"a\":[1,2,3,4,5],\"b\":[6,7,8,9,10]})\n",
    "delete.pop(\"b\")\n",
    "print(\"1st method\",delete)\n",
    "\n",
    "\n",
    "# 2nd method\n",
    "delete2 = pd.DataFrame({\"a\":[1,2,3,4,5],\"b\":[6,7,8,9,10]})\n",
    "\n",
    "del delete2[\"a\"]\n",
    "print(\"2nd method\",delete2)\n"
   ]
  }
 ],
 "metadata": {
  "kernelspec": {
   "display_name": "venv",
   "language": "python",
   "name": "python3"
  },
  "language_info": {
   "codemirror_mode": {
    "name": "ipython",
    "version": 3
   },
   "file_extension": ".py",
   "mimetype": "text/x-python",
   "name": "python",
   "nbconvert_exporter": "python",
   "pygments_lexer": "ipython3",
   "version": "3.13.3"
  }
 },
 "nbformat": 4,
 "nbformat_minor": 5
}
