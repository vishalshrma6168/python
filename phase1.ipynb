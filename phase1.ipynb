{
 "cells": [
  {
   "cell_type": "markdown",
   "id": "0b8074b8",
   "metadata": {},
   "source": [
    "#creating array from list"
   ]
  },
  {
   "cell_type": "markdown",
   "id": "67f0c0a5",
   "metadata": {},
   "source": [
    "#numpy basics\n"
   ]
  },
  {
   "cell_type": "code",
   "execution_count": 1,
   "id": "9bf1a094",
   "metadata": {},
   "outputs": [
    {
     "name": "stdout",
     "output_type": "stream",
     "text": [
      "[1 2 4]\n"
     ]
    }
   ],
   "source": [
    "# numpy basics\n",
    "import numpy as np\n",
    "arr_1d=np.array([1,2,4])\n",
    "print(arr_1d)"
   ]
  },
  {
   "cell_type": "markdown",
   "id": "6b4be9fe",
   "metadata": {},
   "source": [
    "#2d array"
   ]
  },
  {
   "cell_type": "code",
   "execution_count": 2,
   "id": "9433eea9",
   "metadata": {},
   "outputs": [
    {
     "name": "stdout",
     "output_type": "stream",
     "text": [
      "[[1 2 3]\n",
      " [4 5 6]]\n"
     ]
    }
   ],
   "source": [
    "# 2d array\n",
    "import numpy as np\n",
    "arr_2d = np.array([[1,2,3],[4,5,6]])\n",
    "print(arr_2d)"
   ]
  },
  {
   "cell_type": "markdown",
   "id": "7d87e610",
   "metadata": {},
   "source": [
    "#list vs numpy array"
   ]
  },
  {
   "cell_type": "code",
   "execution_count": null,
   "id": "59578f92",
   "metadata": {},
   "outputs": [
    {
     "name": "stdout",
     "output_type": "stream",
     "text": [
      "[1, 2, 3, 1, 2, 3]\n",
      "[2 4 6]\n",
      "0.00010418891906738281\n",
      "[[0.01578999 0.40797441 0.04297827]\n",
      " [0.00468992 0.43170484 0.05094938]]\n"
     ]
    }
   ],
   "source": [
    "list =[1,2,3]\n",
    "print(list*2)\n",
    "\n",
    "np_array =np.array([1,2,3])#element wise multiplication\n",
    "print(np_array*2)\n",
    "\n",
    "import time\n",
    "start = time.time()\n",
    "list =[i*2 for i in range(100)]\n",
    "print(time.time()-start)\n",
    "\n",
    "\n",
    "start = time.time()\n",
    "np_array=np.arange(100)*2\n",
    "\n"
   ]
  },
  {
   "cell_type": "markdown",
   "id": "fd90e171",
   "metadata": {},
   "source": [
    "#creating array from scratch"
   ]
  },
  {
   "cell_type": "code",
   "execution_count": 3,
   "id": "ca26040b",
   "metadata": {},
   "outputs": [
    {
     "name": "stdout",
     "output_type": "stream",
     "text": [
      "[[0. 0. 0. 0.]\n",
      " [0. 0. 0. 0.]\n",
      " [0. 0. 0. 0.]]\n",
      "[[1. 1. 1.]\n",
      " [1. 1. 1.]]\n",
      "[[7 7]\n",
      " [7 7]]\n",
      "[[0.76068249 0.66409413 0.72620249]\n",
      " [0.73762163 0.5806286  0.90232206]]\n",
      "[0 2 4 6 8]\n"
     ]
    }
   ],
   "source": [
    "import numpy as np\n",
    "zeros= np.zeros((3,4))#[1,2]\n",
    "print(zeros)\n",
    "\n",
    "ones = np.ones((2,3))\n",
    "print(ones)\n",
    "\n",
    "full =np.full((2,2),7)\n",
    "print(full)\n",
    "\n",
    "\n",
    "random = np.random.random((2,3))\n",
    "print(random)\n",
    "\n",
    "\n",
    "sequence =np.arange(0,10,2)\n",
    "print(sequence)"
   ]
  },
  {
   "cell_type": "markdown",
   "id": "5fbcd4e2",
   "metadata": {},
   "source": [
    "# vector , martices , tensor "
   ]
  },
  {
   "cell_type": "code",
   "execution_count": null,
   "id": "0a9e02bf",
   "metadata": {},
   "outputs": [
    {
     "name": "stdout",
     "output_type": "stream",
     "text": [
      "[1 2 3]\n",
      "[[1 2 3]\n",
      " [4 5 6]]\n",
      "tensor [[[1 2]\n",
      "  [3 4]]\n",
      "\n",
      " [[5 6]\n",
      "  [7 8]]]\n"
     ]
    }
   ],
   "source": [
    "import numpy as np\n",
    "vector = np.array([1,2,3])\n",
    "print(vector)\n",
    "\n",
    "matrix =np.array([[1,2,3],  [4,5,6]])\n",
    "print(matrix)\n",
    "\n",
    "\n",
    "tensor = np.array([[[1,2],[3,4]],\n",
    "                   [[5,6],[7,8]]])\n",
    "print(\"tensor\",tensor)"
   ]
  },
  {
   "cell_type": "markdown",
   "id": "49d0c5f8",
   "metadata": {},
   "source": [
    "#array propites"
   ]
  },
  {
   "cell_type": "code",
   "execution_count": 25,
   "id": "03847347",
   "metadata": {},
   "outputs": [
    {
     "name": "stdout",
     "output_type": "stream",
     "text": [
      "shape of array (2, 3)\n",
      "dimennsion of array 2\n",
      "size of array 6\n",
      "data type int64\n"
     ]
    }
   ],
   "source": [
    "array =np.array([[1,2,3],[4,5,6]])\n",
    "print(\"shape of array\",array.shape)\n",
    "print(\"dimennsion of array\",array.ndim)\n",
    "print(\"size of array\",array.size)\n",
    "print(\"data type\",array.dtype)\n"
   ]
  },
  {
   "cell_type": "markdown",
   "id": "b5169bfe",
   "metadata": {},
   "source": [
    "#array reshaping"
   ]
  },
  {
   "cell_type": "code",
   "execution_count": 43,
   "id": "e0e8894f",
   "metadata": {},
   "outputs": [
    {
     "name": "stdout",
     "output_type": "stream",
     "text": [
      "orginal array [ 0  1  2  3  4  5  6  7  8  9 10 11]\n",
      "\n",
      "reshaped [[ 0  1  2  3]\n",
      " [ 4  5  6  7]\n",
      " [ 8  9 10 11]]\n",
      "flattened [ 0  1  2  3  4  5  6  7  8  9 10 11]\n",
      "ravel [ 0  1  2  3  4  5  6  7  8  9 10 11]\n",
      "transpose [[ 0  4  8]\n",
      " [ 1  5  9]\n",
      " [ 2  6 10]\n",
      " [ 3  7 11]]\n"
     ]
    }
   ],
   "source": [
    "arr = np.arange(12)\n",
    "print(\"orginal array\",arr)\n",
    "\n",
    "# reshape \n",
    "reshaped = arr.reshape((3,4))\n",
    "print(\"\\nreshaped\",reshaped)\n",
    "\n",
    "# flattened\n",
    "flattened = reshaped.flatten()\n",
    "print(\"flattened\",flattened)\n",
    "\n",
    "# raveled array returns view instead of copy\n",
    "raveled = reshaped.ravel()\n",
    "print(\"ravel\",raveled)\n",
    "\n",
    "\n",
    "# transpose\n",
    "transpose = reshaped.T\n",
    "print(\"transpose\",transpose)"
   ]
  }
 ],
 "metadata": {
  "kernelspec": {
   "display_name": "venv",
   "language": "python",
   "name": "python3"
  },
  "language_info": {
   "codemirror_mode": {
    "name": "ipython",
    "version": 3
   },
   "file_extension": ".py",
   "mimetype": "text/x-python",
   "name": "python",
   "nbconvert_exporter": "python",
   "pygments_lexer": "ipython3",
   "version": "3.13.3"
  }
 },
 "nbformat": 4,
 "nbformat_minor": 5
}
