{
 "cells": [
  {
   "cell_type": "markdown",
   "id": "be9f73d9",
   "metadata": {},
   "source": [
    "# operators"
   ]
  },
  {
   "cell_type": "markdown",
   "id": "ead344c2",
   "metadata": {},
   "source": [
    "# arithmetic operators"
   ]
  },
  {
   "cell_type": "code",
   "execution_count": null,
   "id": "ee978b40",
   "metadata": {},
   "outputs": [
    {
     "name": "stdout",
     "output_type": "stream",
     "text": [
      "sum 10\n",
      "subtract 6\n",
      "multiply 16\n",
      "moduleo 0\n",
      "power 64\n",
      "divide 4.0\n"
     ]
    }
   ],
   "source": [
    "# arithmetic operators\n",
    "a=8\n",
    "b=2\n",
    "print(\"sum\",a+b)\n",
    "print(\"subtract\",a-b)\n",
    "print(\"multiply\",a*b)\n",
    "print(\"moduleo\",a%b)# reaminder find\n",
    "print(\"power\",a**b)\n",
    "print(\"divide\",a/b)# output in floating value"
   ]
  },
  {
   "cell_type": "markdown",
   "id": "b5dbfe17",
   "metadata": {},
   "source": [
    "# comparsion operators"
   ]
  },
  {
   "cell_type": "code",
   "execution_count": null,
   "id": "96a7a1d7",
   "metadata": {},
   "outputs": [
    {
     "name": "stdout",
     "output_type": "stream",
     "text": [
      "a==b : False\n",
      "a!=b: True\n",
      "a>b: False\n",
      "a>=b: False\n",
      "a<=b: True\n"
     ]
    }
   ],
   "source": [
    "# comparsion operators\n",
    "a=2\n",
    "b=5\n",
    "# return boolean value\n",
    "print(\"a==b :\",a==b)\n",
    "print(\"a!=b:\",a!=b)\n",
    "print(\"a>b:\",a>b)\n",
    "print(\"a>=b:\",a>=b)\n",
    "print(\"a<=b:\",a<=b)\n"
   ]
  },
  {
   "cell_type": "markdown",
   "id": "7e09ea08",
   "metadata": {},
   "source": [
    "# Assignment operators"
   ]
  },
  {
   "cell_type": "code",
   "execution_count": null,
   "id": "135de88f",
   "metadata": {},
   "outputs": [
    {
     "name": "stdout",
     "output_type": "stream",
     "text": [
      "a+=b  7\n",
      "a-=b  2\n",
      "a*=b  10\n",
      "a/=b  2.0\n",
      "a%=b  2.0\n",
      "a**=b  32.0\n"
     ]
    }
   ],
   "source": [
    "# Assignment opertors\n",
    "\n",
    "a=2\n",
    "b=5\n",
    "# a=b\n",
    "# a+=b ---a=a+b\n",
    "# a-=b ---a=a-b\n",
    "# a*=b ---a=a*b\n",
    "# a/=b ---a=a/b\n",
    "# a%=b ---a=a%b\n",
    "# a**=b ---a=a**b\n",
    "a+=b\n",
    "print(\"a+=b \",a)\n",
    "a-=b\n",
    "print(\"a-=b \",a)\n",
    "a*=b\n",
    "print(\"a*=b \",a)\n",
    "a/=b\n",
    "print(\"a/=b \",a)\n",
    "a%=b\n",
    "print(\"a%=b \",a)\n",
    "a+=b\n",
    "print(\"a**=b \",a)\n",
    "\n"
   ]
  },
  {
   "cell_type": "markdown",
   "id": "2c9227a9",
   "metadata": {},
   "source": [
    "# logical operators"
   ]
  },
  {
   "cell_type": "code",
   "execution_count": null,
   "id": "0b414f90",
   "metadata": {},
   "outputs": [
    {
     "name": "stdout",
     "output_type": "stream",
     "text": [
      "not: False\n",
      "not: True\n",
      "not: True\n",
      "and: False\n",
      "or: False\n",
      "or: True\n"
     ]
    }
   ],
   "source": [
    "\"\"\" logical operators\n",
    " not\n",
    " and\n",
    " or\n",
    " logical operators works on boolean value it return true , false\"\"\"\n",
    "\n",
    "# not\n",
    "print(\"not:\", not True)\n",
    "print(\"not:\",not False)\n",
    "\n",
    "a=50\n",
    "b=30\n",
    "print(\"not:\",not (a<b))\n",
    "\n",
    "# and\n",
    "# works on two value\n",
    "val1=True\n",
    "val2=False\n",
    "print(\"and:\",val1 and val2)\n",
    "\n",
    "# or\n",
    "print(\"or:\",val2 or val2)\n",
    "print(\"or:\",(a==b) or (a>b))\n",
    "\n"
   ]
  }
 ],
 "metadata": {
  "kernelspec": {
   "display_name": "venv",
   "language": "python",
   "name": "python3"
  },
  "language_info": {
   "codemirror_mode": {
    "name": "ipython",
    "version": 3
   },
   "file_extension": ".py",
   "mimetype": "text/x-python",
   "name": "python",
   "nbconvert_exporter": "python",
   "pygments_lexer": "ipython3",
   "version": "3.13.3"
  }
 },
 "nbformat": 4,
 "nbformat_minor": 5
}
