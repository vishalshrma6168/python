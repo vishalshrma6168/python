{
 "cells": [
  {
   "cell_type": "markdown",
   "id": "bd821638",
   "metadata": {},
   "source": [
    "# if statement"
   ]
  },
  {
   "cell_type": "code",
   "execution_count": 2,
   "id": "52b7c14d",
   "metadata": {},
   "outputs": [
    {
     "name": "stdout",
     "output_type": "stream",
     "text": [
      "you can vote\n"
     ]
    }
   ],
   "source": [
    "# if statement\n",
    "age=32\n",
    "if(age>=18):\n",
    "  print(\"you can vote\")\n"
   ]
  },
  {
   "cell_type": "code",
   "execution_count": 16,
   "id": "c3d2259b",
   "metadata": {},
   "outputs": [
    {
     "name": "stdout",
     "output_type": "stream",
     "text": [
      "small child\n"
     ]
    }
   ],
   "source": [
    "age=3\n",
    "if(age>=18):\n",
    "  print(\"you can vote\")\n",
    "if(age<10):\n",
    "  print(\"small child\")  "
   ]
  },
  {
   "cell_type": "code",
   "execution_count": null,
   "id": "04450603",
   "metadata": {},
   "outputs": [
    {
     "name": "stdout",
     "output_type": "stream",
     "text": [
      "you cannot vote\n"
     ]
    }
   ],
   "source": [
    "# if  else statement\n",
    "age=2\n",
    "if(age>=18):\n",
    "  print(\"you can vote\")\n",
    "else:\n",
    "    print(\"you cannot vote\")"
   ]
  },
  {
   "cell_type": "code",
   "execution_count": 14,
   "id": "68b7d722",
   "metadata": {},
   "outputs": [
    {
     "name": "stdout",
     "output_type": "stream",
     "text": [
      "invlid light\n"
     ]
    }
   ],
   "source": [
    "#  if-elif-else\n",
    "light=\"blue\"\n",
    "if(light==\"green\"):\n",
    "  print(\"go\")\n",
    "elif(light==\"yellow\"):\n",
    "    print(\"wait now\")\n",
    "elif(\"light\"==\"red\"):\n",
    "  print(\"stop\")\n",
    "\n",
    "else:\n",
    "  print(\"invlid light\")"
   ]
  },
  {
   "cell_type": "code",
   "execution_count": 22,
   "id": "4ef7c884",
   "metadata": {},
   "outputs": [
    {
     "name": "stdout",
     "output_type": "stream",
     "text": [
      "number is greater than 3\n"
     ]
    }
   ],
   "source": [
    "num =5\n",
    "if(num <2):\n",
    "  print(\"greater than 2\")\n",
    "elif(num>3):\n",
    "    print(\"number is greater than 3\")\n",
    "elif(num==5):\n",
    "  print(\"number is equal to 5\")\n",
    "else:\n",
    "   print(\"number is greater than 5\")    #4 spaces is equal to indentation  "
   ]
  },
  {
   "cell_type": "code",
   "execution_count": null,
   "id": "5b730f7e",
   "metadata": {},
   "outputs": [],
   "source": [
    "marks=66\n",
    "if(marks>=90):\n",
    "  print(\"grade-A\")\n",
    "\n"
   ]
  }
 ],
 "metadata": {
  "kernelspec": {
   "display_name": "venv",
   "language": "python",
   "name": "python3"
  },
  "language_info": {
   "codemirror_mode": {
    "name": "ipython",
    "version": 3
   },
   "file_extension": ".py",
   "mimetype": "text/x-python",
   "name": "python",
   "nbconvert_exporter": "python",
   "pygments_lexer": "ipython3",
   "version": "3.13.3"
  }
 },
 "nbformat": 4,
 "nbformat_minor": 5
}
