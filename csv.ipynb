{
 "cells": [
  {
   "cell_type": "markdown",
   "id": "407ad0d2",
   "metadata": {},
   "source": [
    "#csv file in pandas"
   ]
  },
  {
   "cell_type": "markdown",
   "id": "25dcdca1",
   "metadata": {},
   "source": [
    "# csv --- comma seperate file ---text format"
   ]
  },
  {
   "cell_type": "markdown",
   "id": "00849cfb",
   "metadata": {},
   "source": [
    "<!-- write csv file -->"
   ]
  },
  {
   "cell_type": "markdown",
   "id": "d83ce8c8",
   "metadata": {},
   "source": [
    "write csv file"
   ]
  },
  {
   "cell_type": "code",
   "execution_count": null,
   "id": "e7d8e303",
   "metadata": {},
   "outputs": [
    {
     "name": "stdout",
     "output_type": "stream",
     "text": [
      "  name  id\n",
      "0    a   1\n",
      "1    b   5\n"
     ]
    }
   ],
   "source": [
    "import pandas as pd\n",
    "\n",
    "dis ={\n",
    "  \"name\":[\"a\",\"b\"],\n",
    "  \"id\":[1,5]\n",
    "}\n",
    "d = pd.DataFrame(dis)\n",
    "print(d)\n",
    "\n",
    "# create csv file\n",
    "d.to_csv(\"test_new.csv\",index=False ,header=[\"c\",\"d\"])\n",
    "\n",
    "# remove index number\n",
    "# index=false\n",
    "# head data change\n",
    "# header=[\"\",\"\"]"
   ]
  },
  {
   "cell_type": "markdown",
   "id": "d700099e",
   "metadata": {},
   "source": [
    "#read csv file"
   ]
  },
  {
   "cell_type": "code",
   "execution_count": null,
   "id": "b065143a",
   "metadata": {},
   "outputs": [
    {
     "name": "stdout",
     "output_type": "stream",
     "text": [
      "   c  d\n",
      "0  a  1\n",
      "1  b  5\n"
     ]
    }
   ],
   "source": [
    "import pandas as pd\n",
    "#read csv file\n",
    "read =pd.read_csv(\"C:/Users/garg2/OneDrive/Desktop/jbook/test_new.csv\")\n",
    "print(read)"
   ]
  },
  {
   "cell_type": "markdown",
   "id": "c6910918",
   "metadata": {},
   "source": [
    "read and edit file\n"
   ]
  },
  {
   "cell_type": "code",
   "execution_count": 26,
   "id": "90660720",
   "metadata": {},
   "outputs": [
    {
     "name": "stdout",
     "output_type": "stream",
     "text": [
      "   c  d\n",
      "0  a  1\n",
      "1  b  5\n"
     ]
    }
   ],
   "source": [
    "import pandas as pd\n",
    "#read csv file\n",
    "read =pd.read_csv(\"C:/Users/garg2/OneDrive/Desktop/jbook/test_new.csv\",nrows=2,usecols=[0,1])\n",
    "print(read)\n",
    "# get rows --- nrows=1\n",
    "# getcolumns= usecols=[\"name\"]\n"
   ]
  },
  {
   "cell_type": "markdown",
   "id": "5f32666c",
   "metadata": {},
   "source": [
    "header row skip\n"
   ]
  },
  {
   "cell_type": "code",
   "execution_count": 28,
   "id": "4d97634e",
   "metadata": {},
   "outputs": [
    {
     "name": "stdout",
     "output_type": "stream",
     "text": [
      "row skip Empty DataFrame\n",
      "Columns: [b, 5]\n",
      "Index: []\n"
     ]
    }
   ],
   "source": [
    "# header row skep\n",
    "row =pd.read_csv(\"C:/Users/garg2/OneDrive/Desktop/jbook/test_new.csv\",skiprows=[0,1])\n",
    "print(\"row skip\",row)"
   ]
  },
  {
   "cell_type": "markdown",
   "id": "d0c1e558",
   "metadata": {},
   "source": [
    "#index col"
   ]
  },
  {
   "cell_type": "code",
   "execution_count": 30,
   "id": "e2724d6f",
   "metadata": {},
   "outputs": [
    {
     "name": "stdout",
     "output_type": "stream",
     "text": [
      "   c\n",
      "d   \n",
      "1  a\n",
      "5  b\n"
     ]
    }
   ],
   "source": [
    "# rowheader change into index number\n",
    "read =pd.read_csv(\"C:/Users/garg2/OneDrive/Desktop/jbook/test_new.csv\",index_col=[\"d\"])\n",
    "print(read)"
   ]
  },
  {
   "cell_type": "markdown",
   "id": "a846525b",
   "metadata": {},
   "source": [
    "header"
   ]
  },
  {
   "cell_type": "code",
   "execution_count": null,
   "id": "ea88a704",
   "metadata": {},
   "outputs": [
    {
     "name": "stdout",
     "output_type": "stream",
     "text": [
      "   a  1\n",
      "0  b  5\n"
     ]
    }
   ],
   "source": [
    "# index number change into header\n",
    "\n",
    "read =pd.read_csv(\"C:/Users/garg2/OneDrive/Desktop/jbook/test_new.csv\",header=[1])\n",
    "print(read)"
   ]
  },
  {
   "cell_type": "markdown",
   "id": "8566ca4f",
   "metadata": {},
   "source": [
    "<!-- name parameter -->"
   ]
  },
  {
   "cell_type": "code",
   "execution_count": null,
   "id": "4aa83d82",
   "metadata": {},
   "outputs": [
    {
     "name": "stdout",
     "output_type": "stream",
     "text": [
      "  col ro\n",
      "0   c  d\n",
      "1   a  1\n",
      "2   b  5\n"
     ]
    }
   ],
   "source": [
    "# heading\n",
    "# name always different\n",
    "read =pd.read_csv(\"C:/Users/garg2/OneDrive/Desktop/jbook/test_new.csv\",names=[\"col\",\"ro\"])\n",
    "print(read)"
   ]
  },
  {
   "cell_type": "markdown",
   "id": "ea36374e",
   "metadata": {},
   "source": [
    "#header none"
   ]
  },
  {
   "cell_type": "code",
   "execution_count": 40,
   "id": "db98502c",
   "metadata": {},
   "outputs": [
    {
     "name": "stdout",
     "output_type": "stream",
     "text": [
      "   0  1\n",
      "0  c  d\n",
      "1  a  1\n",
      "2  b  5\n"
     ]
    }
   ],
   "source": [
    "read =pd.read_csv(\"C:/Users/garg2/OneDrive/Desktop/jbook/test_new.csv\",header=None)\n",
    "print(read)"
   ]
  },
  {
   "cell_type": "markdown",
   "id": "95922d13",
   "metadata": {},
   "source": [
    "#prefix"
   ]
  },
  {
   "cell_type": "code",
   "execution_count": 50,
   "id": "99f92b48",
   "metadata": {},
   "outputs": [
    {
     "name": "stdout",
     "output_type": "stream",
     "text": [
      "  name0 name1\n",
      "0     c     d\n",
      "1     a     1\n",
      "2     b     5\n"
     ]
    }
   ],
   "source": [
    "read =pd.read_csv(\"C:/Users/garg2/OneDrive/Desktop/jbook/test_new.csv\",header=None,dtype={\"name0\":\"float\"})\n",
    "read=read.add_prefix(\"name\")\n",
    "print(read)"
   ]
  },
  {
   "cell_type": "markdown",
   "id": "ef3813e0",
   "metadata": {},
   "source": [
    "#pandas functios"
   ]
  },
  {
   "cell_type": "code",
   "execution_count": null,
   "id": "27543cf4",
   "metadata": {},
   "outputs": [
    {
     "name": "stdout",
     "output_type": "stream",
     "text": [
      "RangeIndex(start=0, stop=3, step=1)\n",
      "columns : Index([0, 1], dtype='int64')\n",
      "<bound method NDFrame.describe of    0  1\n",
      "0  c  d\n",
      "1  a  1\n",
      "2  b  5>\n",
      "   0  1\n",
      "0  c  d\n",
      "1  a  1\n",
      "last    0  1\n",
      "2  b  5\n",
      "coulmn 0    d\n",
      "1    1\n",
      "2    5\n",
      "Name: 1, dtype: object\n"
     ]
    }
   ],
   "source": [
    "# get index\n",
    "import pandas as pd\n",
    "csv =pd.read_csv(\"C:/Users/garg2/OneDrive/Desktop/jbook/test_new.csv\",header=None)\n",
    "print(csv.index)\n",
    "\n",
    "# get column\n",
    "print(\"columns :\",csv.columns)\n",
    "\n",
    "# describe\n",
    "print(csv.describe)\n",
    "# particular data get for starting\n",
    "print(csv.head(2))\n",
    "# # particular data get for last\n",
    "print(\"last\",csv.tail(1))\n",
    "\n",
    "# column data get\n",
    "print(\"coulmn\",csv[1])\n"
   ]
  },
  {
   "cell_type": "markdown",
   "id": "64876672",
   "metadata": {},
   "source": []
  }
 ],
 "metadata": {
  "kernelspec": {
   "display_name": "venv",
   "language": "python",
   "name": "python3"
  },
  "language_info": {
   "codemirror_mode": {
    "name": "ipython",
    "version": 3
   },
   "file_extension": ".py",
   "mimetype": "text/x-python",
   "name": "python",
   "nbconvert_exporter": "python",
   "pygments_lexer": "ipython3",
   "version": "3.13.3"
  }
 },
 "nbformat": 4,
 "nbformat_minor": 5
}
